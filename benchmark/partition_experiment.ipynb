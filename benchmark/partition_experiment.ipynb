{
 "cells": [
  {
   "cell_type": "markdown",
   "metadata": {},
   "source": [
    "# Experimenting with the Direction of Partition\n",
    "\n",
    "Federated learning literature on device heterogeneity has presented only a limited set of partition strategies for creating smaller\n",
    "neural networks for less powerful devices. In this experiment, we explore in which direction the partitioning strategy has a greater\n",
    "effect on computation time. We also explore the effect of the partitioning strategy on the accuracy of the model."
   ]
  },
  {
   "cell_type": "markdown",
   "metadata": {},
   "source": [
    "First, we will install the required packages, then import them into the notebook."
   ]
  },
  {
   "cell_type": "code",
   "execution_count": 1,
   "metadata": {},
   "outputs": [],
   "source": [
    "%pip install -U flax jax numpy tqdm datasets\n",
    "\n",
    "import math\n",
    "import time\n",
    "import matplotlib.pyplot as plt\n",
    "import numpy as np\n",
    "import pickle\n",
    "\n",
    "import datasets\n",
    "import jax\n",
    "import jax.numpy as jnp\n",
    "import optax\n",
    "import einops\n",
    "import flax.linen as nn\n",
    "from tqdm.auto import trange\n",
    "\n",
    "%matplotlib inline"
   ]
  },
  {
   "cell_type": "markdown",
   "metadata": {},
   "source": [
    "For these experiments, we will consider two types of networks: linear and convolutional. We will then compare the resulting average wall clock\n",
    "time to compute a single step of training across different amounts of partitioning with respect to the partitioning types, width and height.\n",
    "We define width partitioning as the reduction of hidden parameters in every layer by a factor of $p \\in (0, 1]$, and height partitioning as the reduction\n",
    "of number of layers by a factor of $p \\in (0, 1]$.\n",
    "\n",
    "We perform all experiments using the MNIST dataset, across ten partitioning factors."
   ]
  },
  {
   "cell_type": "code",
   "execution_count": 2,
   "metadata": {},
   "outputs": [],
   "source": [
    "def load_dataset():\n",
    "    \"Load the MNIST dataset\"\n",
    "    ds = datasets.load_dataset('mnist')\n",
    "    ds = ds.map(\n",
    "        lambda e: {\n",
    "            'X': einops.rearrange(np.array(e['image'], dtype=np.float32) / 255, \"h (w c) -> h w c\", c=1),\n",
    "            'Y': e['label']\n",
    "        },\n",
    "        remove_columns=['image', 'label']\n",
    "    )\n",
    "    features = ds['train'].features\n",
    "    features['X'] = datasets.Array3D(shape=(28, 28, 1), dtype='float32')\n",
    "    ds['train'] = ds['train'].cast(features)\n",
    "    ds['test'] = ds['test'].cast(features)\n",
    "    ds.set_format('numpy')\n",
    "    return ds\n",
    "\n",
    "ds = load_dataset()\n",
    "X, y = np.concatenate((ds['train']['X'], ds['test']['X'])), np.concatenate((ds['train']['Y'], ds['test']['Y']))\n",
    "train = np.concatenate((np.repeat(True, len(ds['train'])), np.repeat(False, len(ds['test']))))"
   ]
  },
  {
   "cell_type": "markdown",
   "metadata": {},
   "source": [
    "All networks are trained with a SGD optimizer and a learning rate of 0.1. The loss function is cross entropy."
   ]
  },
  {
   "cell_type": "markdown",
   "metadata": {},
   "source": [
    "In each computation speed experiment we evaluate across 100 seeds, and we use the average of the results as the final result which we plot with respect\n",
    "to the amount of partitioning. For our accuracy experiments, we evaluate the accuracy of the model after 3000 steps of training."
   ]
  },
  {
   "cell_type": "code",
   "execution_count": 3,
   "metadata": {},
   "outputs": [],
   "source": [
    "def ce_loss(model):\n",
    "    def _loss(params, X, y):\n",
    "        logits = jnp.clip(model.apply(params, X), 1e-15, 1 - 1e-15)\n",
    "        one_hot = jax.nn.one_hot(y, logits.shape[-1])\n",
    "        return -jnp.mean(jnp.einsum(\"bl,bl -> b\", one_hot, jnp.log(logits)))\n",
    "    return _loss\n",
    "\n",
    "def trainer_fn(opt, loss):\n",
    "    def _apply(params, opt_state, X, Y):\n",
    "        loss_val, grads = jax.value_and_grad(loss)(params, X, Y)\n",
    "        updates, opt_state = opt.update(grads, opt_state)\n",
    "        params = optax.apply_updates(params, updates)\n",
    "        return params, opt_state, loss_val\n",
    "    return _apply\n",
    "\n",
    "def accuracy(model, params, X, Y):\n",
    "    return jnp.mean(jnp.argmax(model.apply(params, X), axis=-1) == Y)\n",
    "\n",
    "def save_data(filename, data):\n",
    "    with open(filename, 'wb') as f:\n",
    "        pickle.dump(data, f)\n",
    "\n",
    "# Experiment functions\n",
    "\n",
    "def speed_experiment(net_type, jit=True):\n",
    "    max_p = 10\n",
    "    train_len = len(X[train])\n",
    "    results = {p / max_p: [] for p in range(1, max_p + 1)}\n",
    "    for p in trange(1, max_p + 1):\n",
    "        net = net_type(p / max_p, 10, 10)\n",
    "        params = net.init(jax.random.PRNGKey(42), jnp.zeros_like(X[:128]))\n",
    "        opt = optax.sgd(0.1)\n",
    "        opt_state = opt.init(params)\n",
    "        trainer = trainer_fn(opt, ce_loss(net))\n",
    "        if jit:\n",
    "            trainer = jax.jit(trainer)\n",
    "            trainer(params, opt_state, X[:128], y[:128])\n",
    "        rng = np.random.default_rng(0)\n",
    "        for _ in range(1000):\n",
    "            idx = rng.choice(train_len, 128, replace=False)\n",
    "            start = time.perf_counter()\n",
    "            trainer(params, opt_state, X[idx], y[idx])\n",
    "            end = time.perf_counter()\n",
    "            results[p / max_p].append(end - start)\n",
    "    return results\n",
    "\n",
    "\n",
    "def accuracy_experiment(net_type, X, y, train):\n",
    "    max_p = 10\n",
    "    train_len = len(X[train])\n",
    "    results = {p / max_p: [] for p in range(1, max_p + 1)}\n",
    "    main_pbar = trange(1, max_p + 1)\n",
    "    for p in main_pbar:\n",
    "        for i in range(50):\n",
    "            rng = np.random.default_rng(i)\n",
    "            net = net_type(p / max_p, 10, 10)\n",
    "            params = net.init(jax.random.PRNGKey(i), jnp.zeros_like(X[:128]))\n",
    "            opt = optax.sgd(0.1)\n",
    "            opt_state = opt.init(params)\n",
    "            trainer = jax.jit(trainer_fn(opt, ce_loss(net)))\n",
    "            for _ in range(4500):\n",
    "                idx = rng.choice(train_len, 128, replace=False)\n",
    "                params, opt_state, _ = trainer(params, opt_state, X[idx], y[idx])\n",
    "            results[p / max_p].append(accuracy(net, params, X[~train], y[~train]))\n",
    "    return results\n",
    "\n",
    "# Plotting functions\n",
    "\n",
    "def plot_partition_results(label, results):\n",
    "    xpoints = np.array(list(results.keys()))\n",
    "    means = np.array([np.mean(results[xp]) for xp in xpoints])\n",
    "    xpoints = xpoints / xpoints[-1]  # Rescale to percentage\n",
    "    plt.plot(xpoints, means, '-o' if label.lower() == \"depth\" else '-s', label=label)\n",
    "\n",
    "\n",
    "def partition_exp_plot(height_results, width_results, ylabel=\"Wall clock time (s)\"):\n",
    "    plot_partition_results(\"Depth\", height_results)\n",
    "    plot_partition_results(\"Width\", width_results)\n",
    "    plt.ylabel(ylabel)\n",
    "    plt.xlabel(\"Percentage of partitioned weights\")\n",
    "    plt.legend(title=\"Partition direction\", loc=\"lower right\")\n",
    "    plt.show()"
   ]
  },
  {
   "cell_type": "markdown",
   "metadata": {},
   "source": [
    "## Linear Networks\n",
    "\n",
    "For linear networks, the width partitioning is defined trivially as $neurons * p$. Height partitioning remains defined as $layers * p$."
   ]
  },
  {
   "cell_type": "code",
   "execution_count": 4,
   "metadata": {},
   "outputs": [],
   "source": [
    "class width_mlp(nn.Module):\n",
    "    p: float\n",
    "    neurons: int\n",
    "    layers: int\n",
    "\n",
    "    @nn.compact\n",
    "    def __call__(self, x):\n",
    "        x = einops.rearrange(x, \"b w h c -> b (w h c)\")\n",
    "        for l in range(self.layers):\n",
    "            x = nn.Dense(round(self.p * self.neurons))(x)\n",
    "            x = nn.relu(x)\n",
    "        return nn.softmax(nn.Dense(10)(x))\n",
    "\n",
    "class height_mlp(nn.Module):\n",
    "    p: float\n",
    "    neurons: int\n",
    "    layers: int\n",
    "\n",
    "    @nn.compact\n",
    "    def __call__(self, x):\n",
    "        x = einops.rearrange(x, \"b w h c -> b (w h c)\")\n",
    "        for l in range(round(self.p * self.layers)):\n",
    "            x = nn.Dense(self.neurons)(x)\n",
    "            x = nn.relu(x)\n",
    "        return nn.softmax(nn.Dense(10)(x))"
   ]
  },
  {
   "cell_type": "markdown",
   "metadata": {},
   "source": [
    "We perform the experiments as follows:"
   ]
  },
  {
   "cell_type": "code",
   "execution_count": 7,
   "metadata": {},
   "outputs": [
    {
     "name": "stdout",
     "output_type": "stream",
     "text": [
      "Running height partition experiment\n"
     ]
    },
    {
     "ename": "NameError",
     "evalue": "name 'height_mlp' is not defined",
     "output_type": "error",
     "traceback": [
      "\u001b[0;31m---------------------------------------------------------------------------\u001b[0m",
      "\u001b[0;31mNameError\u001b[0m                                 Traceback (most recent call last)",
      "Cell \u001b[0;32mIn[7], line 2\u001b[0m\n\u001b[1;32m      1\u001b[0m \u001b[39mprint\u001b[39m(\u001b[39m\"\u001b[39m\u001b[39mRunning height partition experiment\u001b[39m\u001b[39m\"\u001b[39m)\n\u001b[0;32m----> 2\u001b[0m height_results \u001b[39m=\u001b[39m speed_experiment(height_mlp)\n\u001b[1;32m      3\u001b[0m save_data(\u001b[39m'\u001b[39m\u001b[39mmnist_height_speed_jit.pkl\u001b[39m\u001b[39m'\u001b[39m, height_results)\n\u001b[1;32m      4\u001b[0m \u001b[39mprint\u001b[39m(\u001b[39m\"\u001b[39m\u001b[39mRunning width partition experiment\u001b[39m\u001b[39m\"\u001b[39m)\n",
      "\u001b[0;31mNameError\u001b[0m: name 'height_mlp' is not defined"
     ]
    }
   ],
   "source": [
    "print(\"Running height partition experiment\")\n",
    "height_results = speed_experiment(height_mlp)\n",
    "save_data('mnist_height_speed_jit.pkl', height_results)\n",
    "print(\"Running width partition experiment\")\n",
    "width_results = speed_experiment(width_mlp)\n",
    "save_data('mnist_width_speed_jit.pkl', width_results)\n",
    "partition_exp_plot(height_results, width_results)"
   ]
  },
  {
   "cell_type": "markdown",
   "metadata": {},
   "source": [
    "We observe that while the total time for the experiment takes longer for the height partitioning, the true update time\n",
    "remains faster for the width partitioning. This would be due to the JIT compilation used by the jax library simply taking\n",
    "longer in those cases."
   ]
  },
  {
   "cell_type": "code",
   "execution_count": 7,
   "metadata": {},
   "outputs": [
    {
     "name": "stdout",
     "output_type": "stream",
     "text": [
      "Running height partition experiment\n"
     ]
    },
    {
     "data": {
      "application/vnd.jupyter.widget-view+json": {
       "model_id": "a46cd16cf87342eb9d809abb6f757340",
       "version_major": 2,
       "version_minor": 0
      },
      "text/plain": [
       "  0%|          | 0/10 [00:00<?, ?it/s]"
      ]
     },
     "metadata": {},
     "output_type": "display_data"
    },
    {
     "name": "stdout",
     "output_type": "stream",
     "text": [
      "Running width partition experiment\n"
     ]
    },
    {
     "data": {
      "application/vnd.jupyter.widget-view+json": {
       "model_id": "1f917f0d959647db8cab197477c656ac",
       "version_major": 2,
       "version_minor": 0
      },
      "text/plain": [
       "  0%|          | 0/10 [00:00<?, ?it/s]"
      ]
     },
     "metadata": {},
     "output_type": "display_data"
    },
    {
     "data": {
      "image/png": "[encoded data removed]",
      "text/plain": [
       "<Figure size 432x288 with 1 Axes>"
      ]
     },
     "metadata": {
      "needs_background": "light"
     },
     "output_type": "display_data"
    }
   ],
   "source": [
    "print(\"Running height partition experiment\")\n",
    "height_results = speed_experiment(height_mlp, jit=False)\n",
    "save_data('mnist_height_speed_no_jit.pkl', height_results)\n",
    "print(\"Running width partition experiment\")\n",
    "width_results = speed_experiment(width_mlp, jit=False)\n",
    "save_data('mnist_width_speed_no_jit.pkl', width_results)\n",
    "partition_exp_plot(height_results, width_results)"
   ]
  },
  {
   "cell_type": "markdown",
   "metadata": {},
   "source": [
    "Now will evaluate the accuracy of the model after 3000 steps of training, with respect to the amount and type of partitioning. We clearly see in the plot\n",
    "that height partitioning is the most accurate, so models with wider layers but a lower number of layers perform better for this task."
   ]
  },
  {
   "cell_type": "code",
   "execution_count": 8,
   "metadata": {},
   "outputs": [
    {
     "name": "stdout",
     "output_type": "stream",
     "text": [
      "Running height partition experiment\n"
     ]
    },
    {
     "data": {
      "application/vnd.jupyter.widget-view+json": {
       "model_id": "95a182d0bd5b4936b350e48ef15e72d3",
       "version_major": 2,
       "version_minor": 0
      },
      "text/plain": [
       "  0%|          | 0/10 [00:00<?, ?it/s]"
      ]
     },
     "metadata": {},
     "output_type": "display_data"
    },
    {
     "name": "stdout",
     "output_type": "stream",
     "text": [
      "Running width partition experiment\n"
     ]
    },
    {
     "data": {
      "application/vnd.jupyter.widget-view+json": {
       "model_id": "ebaff8855fcf4eb1b1532d51ad22816c",
       "version_major": 2,
       "version_minor": 0
      },
      "text/plain": [
       "  0%|          | 0/10 [00:00<?, ?it/s]"
      ]
     },
     "metadata": {},
     "output_type": "display_data"
    },
    {
     "data": {
      "image/png": "[encoded data removed]",
      "text/plain": [
       "<Figure size 432x288 with 1 Axes>"
      ]
     },
     "metadata": {
      "needs_background": "light"
     },
     "output_type": "display_data"
    }
   ],
   "source": [
    "print(\"Running height partition experiment\")\n",
    "height_results = accuracy_experiment(height_mlp, X, y, train)\n",
    "save_data('mnist_height_acc_results.pkl', height_results)\n",
    "print(\"Running width partition experiment\")\n",
    "width_results = accuracy_experiment(width_mlp, X, y, train)\n",
    "save_data('mnist_width_acc_results.pkl', width_results)\n",
    "\n",
    "partition_exp_plot(height_results, width_results, ylabel=\"Accuracy\")"
   ]
  },
  {
   "cell_type": "markdown",
   "metadata": {},
   "source": [
    "Next, we will see if a similar pattern emerges within a different dataset."
   ]
  },
  {
   "cell_type": "code",
   "execution_count": 9,
   "metadata": {},
   "outputs": [
    {
     "data": {
      "application/vnd.jupyter.widget-view+json": {
       "model_id": "9774ae3235994478a90a31c972b5cc41",
       "version_major": 2,
       "version_minor": 0
      },
      "text/plain": [
       "Downloading builder script:   0%|          | 0.00/3.61k [00:00<?, ?B/s]"
      ]
     },
     "metadata": {},
     "output_type": "display_data"
    },
    {
     "data": {
      "application/vnd.jupyter.widget-view+json": {
       "model_id": "e8a1ee6d3c804d9db8f4799054076137",
       "version_major": 2,
       "version_minor": 0
      },
      "text/plain": [
       "Downloading metadata:   0%|          | 0.00/1.66k [00:00<?, ?B/s]"
      ]
     },
     "metadata": {},
     "output_type": "display_data"
    },
    {
     "data": {
      "application/vnd.jupyter.widget-view+json": {
       "model_id": "3a819c292589437c8128df0d2193a915",
       "version_major": 2,
       "version_minor": 0
      },
      "text/plain": [
       "Downloading readme:   0%|          | 0.00/5.00k [00:00<?, ?B/s]"
      ]
     },
     "metadata": {},
     "output_type": "display_data"
    },
    {
     "name": "stderr",
     "output_type": "stream",
     "text": [
      "WARNING:datasets.builder:Found cached dataset cifar10 (/home/cody/.cache/huggingface/datasets/cifar10/plain_text/1.0.0/447d6ec4733dddd1ce3bb577c7166b986eaa4c538dcd9e805ba61f35674a9de4)\n"
     ]
    },
    {
     "data": {
      "application/vnd.jupyter.widget-view+json": {
       "model_id": "1cd1eff4dc024794b2f6abd2c3f9ae1c",
       "version_major": 2,
       "version_minor": 0
      },
      "text/plain": [
       "  0%|          | 0/2 [00:00<?, ?it/s]"
      ]
     },
     "metadata": {},
     "output_type": "display_data"
    },
    {
     "data": {
      "application/vnd.jupyter.widget-view+json": {
       "model_id": "",
       "version_major": 2,
       "version_minor": 0
      },
      "text/plain": [
       "Map:   0%|          | 0/50000 [00:00<?, ? examples/s]"
      ]
     },
     "metadata": {},
     "output_type": "display_data"
    },
    {
     "data": {
      "application/vnd.jupyter.widget-view+json": {
       "model_id": "",
       "version_major": 2,
       "version_minor": 0
      },
      "text/plain": [
       "Map:   0%|          | 0/10000 [00:00<?, ? examples/s]"
      ]
     },
     "metadata": {},
     "output_type": "display_data"
    },
    {
     "data": {
      "application/vnd.jupyter.widget-view+json": {
       "model_id": "",
       "version_major": 2,
       "version_minor": 0
      },
      "text/plain": [
       "Casting the dataset:   0%|          | 0/50000 [00:00<?, ? examples/s]"
      ]
     },
     "metadata": {},
     "output_type": "display_data"
    },
    {
     "data": {
      "application/vnd.jupyter.widget-view+json": {
       "model_id": "",
       "version_major": 2,
       "version_minor": 0
      },
      "text/plain": [
       "Casting the dataset:   0%|          | 0/10000 [00:00<?, ? examples/s]"
      ]
     },
     "metadata": {},
     "output_type": "display_data"
    },
    {
     "name": "stdout",
     "output_type": "stream",
     "text": [
      "Running height partition experiment\n"
     ]
    },
    {
     "data": {
      "application/vnd.jupyter.widget-view+json": {
       "model_id": "b236aa13bf8440bda23cdce4b51c1171",
       "version_major": 2,
       "version_minor": 0
      },
      "text/plain": [
       "  0%|          | 0/10 [00:00<?, ?it/s]"
      ]
     },
     "metadata": {},
     "output_type": "display_data"
    },
    {
     "name": "stdout",
     "output_type": "stream",
     "text": [
      "Running width partition experiment\n"
     ]
    },
    {
     "data": {
      "application/vnd.jupyter.widget-view+json": {
       "model_id": "abaa32d1878d4401838957618220d123",
       "version_major": 2,
       "version_minor": 0
      },
      "text/plain": [
       "  0%|          | 0/10 [00:00<?, ?it/s]"
      ]
     },
     "metadata": {},
     "output_type": "display_data"
    },
    {
     "data": {
      "image/png": "[encoded data removed]",
      "text/plain": [
       "<Figure size 432x288 with 1 Axes>"
      ]
     },
     "metadata": {
      "needs_background": "light"
     },
     "output_type": "display_data"
    }
   ],
   "source": [
    "def load_dataset():\n",
    "    \"Load the CIFAR-10 dataset\"\n",
    "    ds = datasets.load_dataset('cifar10')\n",
    "    ds = ds.map(\n",
    "        lambda e: {\n",
    "            'X': np.array(e['img'], dtype=np.float32) / 255,\n",
    "            'Y': e['label']\n",
    "        },\n",
    "        remove_columns=['img', 'label']\n",
    "    )\n",
    "    features = ds['train'].features\n",
    "    features['X'] = datasets.Array3D(shape=(32, 32, 3), dtype='float32')\n",
    "    ds['train'] = ds['train'].cast(features)\n",
    "    ds['test'] = ds['test'].cast(features)\n",
    "    ds.set_format('numpy')\n",
    "    return ds\n",
    "\n",
    "ds = load_dataset()\n",
    "cX, cy = np.concatenate((ds['train']['X'], ds['test']['X'])), np.concatenate((ds['train']['Y'], ds['test']['Y']))\n",
    "ctrain = np.concatenate((np.repeat(True, len(ds['train'])), np.repeat(False, len(ds['test']))))\n",
    "\n",
    "print(\"Running height partition experiment\")\n",
    "height_results = accuracy_experiment(height_mlp, cX, cy, ctrain)\n",
    "save_data('cifar10_height_acc_results.pkl', height_results)\n",
    "print(\"Running width partition experiment\")\n",
    "width_results = accuracy_experiment(width_mlp, cX, cy, ctrain)\n",
    "save_data('cifar10_width_acc_results.pkl', width_results)\n",
    "\n",
    "partition_exp_plot(height_results, width_results, ylabel=\"Accuracy\")"
   ]
  },
  {
   "cell_type": "markdown",
   "metadata": {},
   "source": [
    "## Convolutional Networks\n",
    "\n",
    "While height-based partitioning remains trivial, there is some ambiguity to width partitioning, so we look at two different strategies:\n",
    "\n",
    "- Partition only the number of channels $p \\cdot channels$. This makes the most logical sense, gives a smaller reduction in parameters.\n",
    "- Partition both the channels to $\\sqrt{p} \\cdot channels$, and the kernel by $2d$th root where $d$ is the rank of the kernel tensor. This would correspond\n",
    "to $(\\sqrt[2d]{k} : \\forall k \\in kernel)$. Here for each element we take the $\\sqrt{p}$ as there are two \n",
    "independent parameters being partitioned, this way the product produces the partition by $p$.\n",
    "\n",
    "### Partitioning Channels"
   ]
  },
  {
   "cell_type": "code",
   "execution_count": 11,
   "metadata": {},
   "outputs": [],
   "source": [
    "channels = 100\n",
    "kernel = (3, 3)\n",
    "\n",
    "\n",
    "class width_ch_cnn(nn.Module):\n",
    "    p: float\n",
    "    channels: int\n",
    "    layers: int\n",
    "\n",
    "    @nn.compact\n",
    "    def __call__(self, x):\n",
    "        for l in range(self.layers):\n",
    "            x = nn.Conv(round(self.p * self.channels), kernel)(x)\n",
    "            x = nn.relu(x)\n",
    "        x = einops.rearrange(x, \"b w h c -> b (w h c)\")\n",
    "        x = nn.Dense(500)(x)\n",
    "        x = nn.relu(x)\n",
    "        return nn.softmax(nn.Dense(10)(x))\n",
    "\n",
    "\n",
    "class height_ch_cnn(nn.Module):\n",
    "    p: float\n",
    "    channels: int\n",
    "    layers: int\n",
    "\n",
    "    @nn.compact\n",
    "    def __call__(self, x):\n",
    "        for l in range(round(self.p * self.layers)):\n",
    "            x = nn.Conv(self.channels, kernel)(x)\n",
    "            x = nn.relu(x)\n",
    "        x = einops.rearrange(x, \"b w h c -> b (w h c)\")\n",
    "        x = nn.Dense(500)(x)\n",
    "        x = nn.relu(x)\n",
    "        return nn.softmax(nn.Dense(10)(x))"
   ]
  },
  {
   "cell_type": "code",
   "execution_count": 12,
   "metadata": {},
   "outputs": [
    {
     "name": "stdout",
     "output_type": "stream",
     "text": [
      "Running height partition experiment\n"
     ]
    },
    {
     "data": {
      "application/vnd.jupyter.widget-view+json": {
       "model_id": "e86eb8cb75574dd5951eb3d7d1b9e779",
       "version_major": 2,
       "version_minor": 0
      },
      "text/plain": [
       "  0%|          | 0/10 [00:00<?, ?it/s]"
      ]
     },
     "metadata": {},
     "output_type": "display_data"
    },
    {
     "ename": "KeyboardInterrupt",
     "evalue": "",
     "output_type": "error",
     "traceback": [
      "\u001b[0;31m---------------------------------------------------------------------------\u001b[0m",
      "\u001b[0;31mKeyboardInterrupt\u001b[0m                         Traceback (most recent call last)",
      "Cell \u001b[0;32mIn[12], line 2\u001b[0m\n\u001b[1;32m      1\u001b[0m \u001b[38;5;28mprint\u001b[39m(\u001b[38;5;124m\"\u001b[39m\u001b[38;5;124mRunning height partition experiment\u001b[39m\u001b[38;5;124m\"\u001b[39m)\n\u001b[0;32m----> 2\u001b[0m height_ch_results \u001b[38;5;241m=\u001b[39m \u001b[43mspeed_experiment\u001b[49m\u001b[43m(\u001b[49m\u001b[43mheight_ch_cnn\u001b[49m\u001b[43m)\u001b[49m\n\u001b[1;32m      3\u001b[0m \u001b[38;5;28mprint\u001b[39m(\u001b[38;5;124m\"\u001b[39m\u001b[38;5;124mRunning width partition experiment\u001b[39m\u001b[38;5;124m\"\u001b[39m)\n\u001b[1;32m      4\u001b[0m width_ch_results \u001b[38;5;241m=\u001b[39m speed_experiment(width_ch_cnn)\n",
      "Cell \u001b[0;32mIn[3], line 42\u001b[0m, in \u001b[0;36mspeed_experiment\u001b[0;34m(net_type, jit)\u001b[0m\n\u001b[1;32m     40\u001b[0m idx \u001b[38;5;241m=\u001b[39m rng\u001b[38;5;241m.\u001b[39mchoice(train_len, \u001b[38;5;241m128\u001b[39m, replace\u001b[38;5;241m=\u001b[39m\u001b[38;5;28;01mFalse\u001b[39;00m)\n\u001b[1;32m     41\u001b[0m start \u001b[38;5;241m=\u001b[39m time\u001b[38;5;241m.\u001b[39mperf_counter()\n\u001b[0;32m---> 42\u001b[0m \u001b[43mtrainer\u001b[49m\u001b[43m(\u001b[49m\u001b[43mparams\u001b[49m\u001b[43m,\u001b[49m\u001b[43m \u001b[49m\u001b[43mopt_state\u001b[49m\u001b[43m,\u001b[49m\u001b[43m \u001b[49m\u001b[43mX\u001b[49m\u001b[43m[\u001b[49m\u001b[43midx\u001b[49m\u001b[43m]\u001b[49m\u001b[43m,\u001b[49m\u001b[43m \u001b[49m\u001b[43my\u001b[49m\u001b[43m[\u001b[49m\u001b[43midx\u001b[49m\u001b[43m]\u001b[49m\u001b[43m)\u001b[49m\n\u001b[1;32m     43\u001b[0m end \u001b[38;5;241m=\u001b[39m time\u001b[38;5;241m.\u001b[39mperf_counter()\n\u001b[1;32m     44\u001b[0m results[p \u001b[38;5;241m/\u001b[39m max_p]\u001b[38;5;241m.\u001b[39mappend(end \u001b[38;5;241m-\u001b[39m start)\n",
      "File \u001b[0;32m<string>:1\u001b[0m, in \u001b[0;36m<lambda>\u001b[0;34m(_cls)\u001b[0m\n",
      "\u001b[0;31mKeyboardInterrupt\u001b[0m: "
     ]
    }
   ],
   "source": [
    "print(\"Running height partition experiment\")\n",
    "height_ch_results = speed_experiment(height_ch_cnn)\n",
    "print(\"Running width partition experiment\")\n",
    "width_ch_results = speed_experiment(width_ch_cnn)"
   ]
  },
  {
   "cell_type": "markdown",
   "metadata": {},
   "source": [
    "The results from this experiment are somewhat more complicated. While generally height partitioning is faster, the width partitioning\n",
    "performs better from the 80% partitioning onwards, this appears to be due to the use of 8-10 channels being a better optimized computation."
   ]
  },
  {
   "cell_type": "code",
   "execution_count": 6,
   "metadata": {},
   "outputs": [
    {
     "data": {
      "image/png": "[encoded data removed]",
      "text/plain": [
       "<Figure size 640x480 with 1 Axes>"
      ]
     },
     "metadata": {},
     "output_type": "display_data"
    }
   ],
   "source": [
    "partition_exp_plot(height_ch_results, width_ch_results)"
   ]
  },
  {
   "cell_type": "code",
   "execution_count": null,
   "metadata": {},
   "outputs": [],
   "source": [
    "print(\"Running height partition experiment\")\n",
    "height_results = accuracy_experiment(height_ch_cnn, X, y, train)\n",
    "print(\"Running width partition experiment\")\n",
    "width_results = accuracy_experiment(width_ch_cnn, X, y, train)\n",
    "\n",
    "partition_exp_plot(height_results, width_results, ylabel=\"Accuracy\")"
   ]
  },
  {
   "cell_type": "code",
   "execution_count": null,
   "metadata": {},
   "outputs": [],
   "source": [
    "print(\"Running height partition experiment\")\n",
    "height_results = accuracy_experiment(height_ch_cnn, cX, cy, ctrain)\n",
    "print(\"Running width partition experiment\")\n",
    "width_results = accuracy_experiment(width_ch_cnn, cX, cy, ctrain)\n",
    "\n",
    "partition_exp_plot(height_results, width_results, ylabel=\"Accuracy\")"
   ]
  },
  {
   "cell_type": "markdown",
   "metadata": {},
   "source": [
    "### Partitioning Kernel"
   ]
  },
  {
   "cell_type": "code",
   "execution_count": null,
   "metadata": {},
   "outputs": [],
   "source": [
    "kernel = (10, 10)\n",
    "\n",
    "def width_kernel_cnn(p, input_shape, classes):\n",
    "    kernel_shape = tuple([round((p**(1/4)) * k) for k in kernel])\n",
    "    print(kernel_shape)\n",
    "    x = inputs = tf.keras.layers.Input(shape=input_shape)\n",
    "    for l in range(layers):\n",
    "        x = tf.keras.layers.Conv2D(round(math.sqrt(p) * channels), kernel_shape, padding='same')(x)\n",
    "        x = tf.keras.layers.BatchNormalization()(x)\n",
    "        x = tf.keras.layers.ReLU()(x)\n",
    "    x = tf.keras.layers.GlobalAveragePooling2D()(x)\n",
    "    x = tf.keras.layers.Flatten()(x)\n",
    "    x = tf.keras.layers.Dense(500, activation='relu')(x)\n",
    "    outputs = tf.keras.layers.Dense(classes, activation='softmax')(x)\n",
    "    model = tf.keras.Model(inputs, outputs)\n",
    "    opt = tf.keras.optimizers.SGD(learning_rate=0.1)\n",
    "    model.compile(optimizer=opt, loss='sparse_categorical_crossentropy', metrics=['accuracy'])\n",
    "    return model\n",
    "    \n",
    "\n",
    "\n",
    "def height_kernel_cnn(p, input_shape, classes):\n",
    "    x = inputs = tf.keras.layers.Input(shape=input_shape)\n",
    "    for l in range(round(p * layers)):\n",
    "        x = tf.keras.layers.Conv2D(channels, kernel, padding='same')(x)\n",
    "        x = tf.keras.layers.BatchNormalization()(x)\n",
    "        x = tf.keras.layers.ReLU()(x)\n",
    "    x = tf.keras.layers.GlobalAveragePooling2D()(x)\n",
    "    x = tf.keras.layers.Flatten()(x)\n",
    "    x = tf.keras.layers.Dense(500, activation='relu')(x)\n",
    "    outputs = tf.keras.layers.Dense(classes, activation='softmax')(x)\n",
    "    model = tf.keras.Model(inputs, outputs)\n",
    "    opt = tf.keras.optimizers.SGD(learning_rate=0.1)\n",
    "    model.compile(optimizer=opt, loss='sparse_categorical_crossentropy', metrics=['accuracy'])\n",
    "    return model"
   ]
  },
  {
   "cell_type": "code",
   "execution_count": null,
   "metadata": {},
   "outputs": [],
   "source": [
    "print(\"Running height partition experiment\")\n",
    "height_kernel_results = speed_experiment(height_kernel_cnn)\n",
    "print(\"Running width partition experiment\")\n",
    "width_kernel_results = speed_experiment(width_kernel_cnn)"
   ]
  },
  {
   "cell_type": "markdown",
   "metadata": {},
   "source": [
    "For this case the smaller kernel sizes do provide faster computations to the width partitioning, making it faster than height partitioning.\n",
    "The trend of the wall clock time for width partitioning has two notable traits: it undergoes exponential growth up to 60% partitioning, then\n",
    "drops at 80% partitioning following a linear growth from then onwards. This appears to be caused by the optimization of specific kernels\n",
    "with the CUDA library."
   ]
  },
  {
   "cell_type": "code",
   "execution_count": null,
   "metadata": {},
   "outputs": [],
   "source": [
    "partition_exp_plot(height_kernel_results, width_kernel_results)"
   ]
  },
  {
   "cell_type": "code",
   "execution_count": null,
   "metadata": {},
   "outputs": [],
   "source": [
    "print(\"Running height partition experiment\")\n",
    "height_results = accuracy_experiment(height_kernel_cnn, X, y, train)\n",
    "print(\"Running width partition experiment\")\n",
    "width_results = accuracy_experiment(width_kernel_cnn, X, y, train)\n",
    "\n",
    "partition_exp_plot(height_results, width_results, ylabel=\"Accuracy\")"
   ]
  },
  {
   "cell_type": "code",
   "execution_count": null,
   "metadata": {},
   "outputs": [],
   "source": [
    "print(\"Running height partition experiment\")\n",
    "height_results = accuracy_experiment(height_kernel_cnn, cX, cy, ctrain)\n",
    "print(\"Running width partition experiment\")\n",
    "width_results = accuracy_experiment(width_kernel_cnn, cX, cy, ctrain)\n",
    "\n",
    "partition_exp_plot(height_results, width_results, ylabel=\"Accuracy\")"
   ]
  },
  {
   "cell_type": "markdown",
   "metadata": {},
   "source": [
    "# Comparing Partitioning by Hyperparameters to Parameters\n",
    "\n",
    "In the CNN experiments, we see that both width and height partitioning appears equivalent with respect to the amount\n",
    "of partitioning of the hyperparameters, channels and kernel shape. The linear network experiments differ in this\n",
    "sense, where the partitioning of hyperparameters is more beneficial to computation time when performed across the\n",
    "width. In the following we will mathematically and empirically show that the conflicting properties of the linear\n",
    "network is a result of the difference in the number of parameters arising from the hyperparameter based \n",
    "partitioning.\n",
    "\n",
    "## Direct Proofs\n",
    "\n",
    "We will first define the number of hyperparameters as $H$, and the number of parameters as $P$, we also use $p$ to\n",
    "indicate the percent of (hyper)parameters that are being partitioned.\n",
    "\n",
    "In linear networks the number of hyperparameters is the number of neurons and is equal to the product of the number\n",
    "of layers, $L$, and the number of neurons in each layer, $W$. So in this case,\n",
    "\n",
    "\\begin{equation}\n",
    "    H = LW\n",
    "\\end{equation}\n",
    "\n",
    "Then if we take the partition by depth, we would set the number of layers to $L = pL_{max}$, where $L_{max}$ is the\n",
    "full networks' number of layers. This will give the following number of hyperparameters, where\n",
    "$H_{max} = L_{max} W_{max}$ is the full network we are partioning,\n",
    "\n",
    "\\begin{equation}\n",
    "    H = (pL_{max})W_{max} = pH_{max}\n",
    "\\end{equation}\n",
    "\n",
    "If also look at taking the partition by width, we would set the width of the layers to $W = pW_{max}$ where \n",
    "$W_{max}$ is full networks' width per layer. The result is as follows,\n",
    "\n",
    "\\begin{equation}\n",
    "    H = L_{max} (pW_{max}) = pH_{max}\n",
    "\\end{equation}\n",
    "\n",
    "As expected, both partitioning strategies take equal partitions of the hyperparameters, however, this is not true\n",
    "for the parameters.\n",
    "\n",
    "In a linear network the number parameters with respect to the width and height of the network are as follows,\n",
    "\n",
    "\\begin{equation}\n",
    "    P = LWW\n",
    "\\end{equation}\n",
    "\n",
    "Now if we take the same partition of the depth of the network, where $P_{max} = L_{max} W_{max} W_{max}$,\n",
    "\n",
    "\\begin{equation}\n",
    "     P = (pL_{max})W_{max}W_{max} = pP_{max}\n",
    "\\end{equation}\n",
    "\n",
    "The result is as expected, however, when take the partition by the width we find that the partitioning amount \n",
    "appears twice due to the number of parameters being equal to the product of the number of neurons in the current\n",
    "layer and the number of neurons in the next layer.\n",
    "\n",
    "\\begin{equation}\n",
    "    P = L_{max} (pW_{max})(pW_{max}) = p^2 P_{max}\n",
    "\\end{equation}\n",
    "\n",
    "Hence, the number of parameters follow a quadratic partitioning amount when taken by width while following a linear\n",
    "amount when taken by the height. In the following, using this observation we will show that the computation time of\n",
    "the neural network updates is directly proportional to the number of parameters by setting $p = \\sqrt{p}$ for only\n",
    "the width based experiments."
   ]
  },
  {
   "cell_type": "markdown",
   "metadata": {},
   "source": [
    "## Empirical Proof"
   ]
  },
  {
   "cell_type": "code",
   "execution_count": null,
   "metadata": {},
   "outputs": [],
   "source": [
    "print(\"Running height partition experiment\")\n",
    "height_results = speed_experiment(height_mlp)\n",
    "print(\"Running width partition experiment\")\n",
    "width_results = speed_experiment(width_mlp, p_pipeline=[math.sqrt])\n",
    "\n",
    "partition_exp_plot(height_results, width_results)"
   ]
  },
  {
   "cell_type": "markdown",
   "metadata": {},
   "source": [
    "## Why are the CNN Partitions Near Equal in Time?\n",
    "\n",
    "It is notable that our CNN results are near equivalent regardless of the partition type taken, this is simple the\n",
    "result of the number hyperparameters being equal to the number of parameters. Where $C$ is the number of channels\n",
    "and $K$ is the side length of a square kernel,\n",
    "\n",
    "\\begin{equation}\n",
    "    H = P = LCK^2\n",
    "\\end{equation}\n",
    "\n",
    "Hence, when taking the partions by channel we get the following equality, where $C_{max}$ is the number of channels\n",
    "in the full network and $K_{max}$ is the kernel side length in the full network.\n",
    "\n",
    "\\begin{equation}\n",
    "    H = P = L_{max}(pC_{max})K_{max}^2 = (pL_{max})C_{max}K_{max}^2 = pP_{max} = pH_{max}\n",
    "\\end{equation}\n",
    "\n",
    "And in the case of the full partition scheme,\n",
    "\n",
    "\\begin{equation}\n",
    "    H = P = L_{max}(\\sqrt{p}C_{max})(\\sqrt[4]{p}K_{max})^2 = (pL_{max})C_{max}K_{max}^2 = pP_{max} = pH_{max}\n",
    "\\end{equation}"
   ]
  }
 ],
 "metadata": {
  "interpreter": {
   "hash": "e7370f93d1d0cde622a1f8e1c04877d8463912d04d973331ad4851f04de6915a"
  },
  "kernelspec": {
   "display_name": "Python 3 (ipykernel)",
   "language": "python",
   "name": "python3"
  },
  "language_info": {
   "codemirror_mode": {
    "name": "ipython",
    "version": 3
   },
   "file_extension": ".py",
   "mimetype": "text/x-python",
   "name": "python",
   "nbconvert_exporter": "python",
   "pygments_lexer": "ipython3",
   "version": "3.11.5"
  }
 },
 "nbformat": 4,
 "nbformat_minor": 4
}
